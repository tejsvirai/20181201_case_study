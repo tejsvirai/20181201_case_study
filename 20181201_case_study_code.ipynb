{
 "cells": [
  {
   "cell_type": "markdown",
   "metadata": {
    "slideshow": {
     "slide_type": "-"
    }
   },
   "source": [
    "#### First, we need to import all the modules needed to run the code."
   ]
  },
  {
   "cell_type": "code",
   "execution_count": 1,
   "metadata": {
    "slideshow": {
     "slide_type": "-"
    }
   },
   "outputs": [],
   "source": [
    "import pandas\n",
    "import datetime\n",
    "import sklearn\n",
    "import numpy as np\n",
    "import matplotlib.pyplot as plt\n",
    "from IPython.display import display\n",
    "from sklearn.linear_model import LogisticRegression\n",
    "from sklearn.model_selection import train_test_split\n",
    "from sklearn.metrics import confusion_matrix, accuracy_score, precision_score, recall_score"
   ]
  },
  {
   "cell_type": "markdown",
   "metadata": {},
   "source": [
    "#### Next, we define some constants (such as month mappings and column names) that will help structure the analysis going forward."
   ]
  },
  {
   "cell_type": "code",
   "execution_count": 2,
   "metadata": {},
   "outputs": [],
   "source": [
    "_MTH_MAP = {'Jan': 1, 'Feb': 2, 'Mar': 3, 'Apr': 4, 'May': 5, 'Jun': 6, \n",
    "            'Jul': 7, 'Aug': 8, 'Sep': 9, 'Oct': 10, 'Nov': 11, 'Dec': 12}\n",
    "_GRD_MAP = {'A': 1, 'B': 2, 'C': 3, 'D': 4, 'E': 5, 'F': 6, 'G': 7}\n",
    "_COL_ALL = ['loan_amnt', 'funded_amnt', 'term', 'int_rate', 'grade', 'annual_inc', \n",
    "            'issue_d', 'dti', 'revol_bal', 'total_pymnt', 'loan_status']\n",
    "_COL_NUM = ['loan_amnt', 'funded_amnt', 'int_rate', 'annual_inc', 'dti', 'revol_bal', 'total_pymnt']\n",
    "_COL_STR = list(set(_COL_ALL) - set(_COL_NUM))"
   ]
  },
  {
   "cell_type": "markdown",
   "metadata": {},
   "source": [
    "#### We then load the raw loan data from a CSV file and restrict the output to the relevant columns"
   ]
  },
  {
   "cell_type": "code",
   "execution_count": 3,
   "metadata": {},
   "outputs": [
    {
     "name": "stderr",
     "output_type": "stream",
     "text": [
      "/usr/local/lib/python3.7/site-packages/IPython/core/interactiveshell.py:3020: DtypeWarning: Columns (19,55) have mixed types. Specify dtype option on import or set low_memory=False.\n",
      "  interactivity=interactivity, compiler=compiler, result=result)\n"
     ]
    }
   ],
   "source": [
    "# Load the raw data\n",
    "filename = r'/Users/tejsvirai/PycharmProjects/BX_case_study/BX_case_study_data/loan.csv'\n",
    "data = pandas.read_csv(filepath_or_buffer = filename)\n",
    "\n",
    "# Reindex to the requested subset of columns\n",
    "data = data.reindex(columns = _COL_ALL)\n",
    "\n",
    "# Delete variables we may reuse later\n",
    "del filename"
   ]
  },
  {
   "cell_type": "markdown",
   "metadata": {},
   "source": [
    "#### We next pre-process the data to append certain intermediate / useful information that will be used in the analysis later on. For example, we compute the annualized return for each loan in this step since we are asked to summarize this statistic in the \"Business Analysis\" part of the case study:"
   ]
  },
  {
   "cell_type": "code",
   "execution_count": 4,
   "metadata": {},
   "outputs": [],
   "source": [
    "# Remove leading and trailing zeros from the loan term\n",
    "term = list(map(lambda x: np.int(x.strip().split(' ')[0]), data['term'].values))\n",
    "\n",
    "# Map the grades from letters to numbers\n",
    "qual = list(map(lambda x: _GRD_MAP[x], data['grade'].values))\n",
    "\n",
    "# Convert the issue_d into a pandas datetime\n",
    "issue = list(map(lambda x: x.split('-'), data['issue_d']))\n",
    "issue = list(map(lambda x: datetime.datetime(np.int(x[1]), _MTH_MAP[x[0]], 1), issue))\n",
    "issue = list(map(lambda x: x + pandas.tseries.offsets.BMonthEnd(0), issue))\n",
    "\n",
    "# Compute the maturity date from the issue date\n",
    "expr = zip(issue, term)\n",
    "expr = list(map(lambda x: x[0] + pandas.tseries.offsets.BMonthEnd(x[1]), expr))\n",
    "\n",
    "# Add in dummies for whether the loan was paid off or not\n",
    "dummy  = [1.0] * len(data.index)\n",
    "isPaid = list(map(lambda x: 1.0 if 'fully paid' in x.lower() else 0.0, data['loan_status'].values))\n",
    "yyyy   = list(map(lambda x: x.year, issue))\n",
    "annRet = (data['total_pymnt'].values / data['funded_amnt'].values) ** (1 / 3) - 1.0\n",
    "\n",
    "# Store the data\n",
    "data['term_mm']  = term\n",
    "data['grd_num']  = qual\n",
    "data['issue_dt'] = issue\n",
    "data['expr_dt']  = expr\n",
    "data['dummy']    = dummy\n",
    "data['ispaid']   = isPaid\n",
    "data['yyyy']     = yyyy\n",
    "data['avgRet']   = annRet\n",
    "\n",
    "# Delete variables we might reuse later\n",
    "del term, qual, issue, expr, dummy, isPaid, yyyy, annRet"
   ]
  },
  {
   "cell_type": "markdown",
   "metadata": {},
   "source": [
    "#### We now move on to the main data visualization section where we get a first look at what our data actually consists of."
   ]
  },
  {
   "cell_type": "markdown",
   "metadata": {},
   "source": [
    "#### First, we look at the last 5 rows of our data for a quick visual inspection. We can see that the data is a mixture of numeric and text fields that is well-ordered and complete.\n",
    "\n",
    "#### Each row in this table consists of one loan. For example, the first row correpsonds to a fully funded grade B loan for 10,000 with a 36 month term and issue date of Jan-2015. This loan is classified as current, has an interest rate of 11.99 percent and has been made to a borrower who has an annual income of 31,000."
   ]
  },
  {
   "cell_type": "code",
   "execution_count": 5,
   "metadata": {},
   "outputs": [
    {
     "data": {
      "text/html": [
       "<div>\n",
       "<style scoped>\n",
       "    .dataframe tbody tr th:only-of-type {\n",
       "        vertical-align: middle;\n",
       "    }\n",
       "\n",
       "    .dataframe tbody tr th {\n",
       "        vertical-align: top;\n",
       "    }\n",
       "\n",
       "    .dataframe thead th {\n",
       "        text-align: right;\n",
       "    }\n",
       "</style>\n",
       "<table border=\"1\" class=\"dataframe\">\n",
       "  <thead>\n",
       "    <tr style=\"text-align: right;\">\n",
       "      <th></th>\n",
       "      <th>loan_amnt</th>\n",
       "      <th>funded_amnt</th>\n",
       "      <th>term</th>\n",
       "      <th>int_rate</th>\n",
       "      <th>grade</th>\n",
       "      <th>annual_inc</th>\n",
       "      <th>issue_d</th>\n",
       "      <th>dti</th>\n",
       "      <th>revol_bal</th>\n",
       "      <th>total_pymnt</th>\n",
       "      <th>loan_status</th>\n",
       "      <th>term_mm</th>\n",
       "      <th>grd_num</th>\n",
       "      <th>issue_dt</th>\n",
       "      <th>expr_dt</th>\n",
       "      <th>dummy</th>\n",
       "      <th>ispaid</th>\n",
       "      <th>yyyy</th>\n",
       "      <th>avgRet</th>\n",
       "    </tr>\n",
       "  </thead>\n",
       "  <tbody>\n",
       "    <tr>\n",
       "      <th>887374</th>\n",
       "      <td>10000.0</td>\n",
       "      <td>10000.0</td>\n",
       "      <td>36 months</td>\n",
       "      <td>11.99</td>\n",
       "      <td>B</td>\n",
       "      <td>31000.0</td>\n",
       "      <td>Jan-2015</td>\n",
       "      <td>28.69</td>\n",
       "      <td>14037.0</td>\n",
       "      <td>3971.88</td>\n",
       "      <td>Current</td>\n",
       "      <td>36</td>\n",
       "      <td>2</td>\n",
       "      <td>2015-01-30</td>\n",
       "      <td>2018-01-31</td>\n",
       "      <td>1.0</td>\n",
       "      <td>0.0</td>\n",
       "      <td>2015</td>\n",
       "      <td>-0.264924</td>\n",
       "    </tr>\n",
       "    <tr>\n",
       "      <th>887375</th>\n",
       "      <td>24000.0</td>\n",
       "      <td>24000.0</td>\n",
       "      <td>36 months</td>\n",
       "      <td>11.99</td>\n",
       "      <td>B</td>\n",
       "      <td>79000.0</td>\n",
       "      <td>Jan-2015</td>\n",
       "      <td>3.90</td>\n",
       "      <td>8621.0</td>\n",
       "      <td>9532.39</td>\n",
       "      <td>Current</td>\n",
       "      <td>36</td>\n",
       "      <td>2</td>\n",
       "      <td>2015-01-30</td>\n",
       "      <td>2018-01-31</td>\n",
       "      <td>1.0</td>\n",
       "      <td>0.0</td>\n",
       "      <td>2015</td>\n",
       "      <td>-0.264927</td>\n",
       "    </tr>\n",
       "    <tr>\n",
       "      <th>887376</th>\n",
       "      <td>13000.0</td>\n",
       "      <td>13000.0</td>\n",
       "      <td>60 months</td>\n",
       "      <td>15.99</td>\n",
       "      <td>D</td>\n",
       "      <td>35000.0</td>\n",
       "      <td>Jan-2015</td>\n",
       "      <td>30.90</td>\n",
       "      <td>11031.0</td>\n",
       "      <td>3769.74</td>\n",
       "      <td>Current</td>\n",
       "      <td>60</td>\n",
       "      <td>4</td>\n",
       "      <td>2015-01-30</td>\n",
       "      <td>2020-01-31</td>\n",
       "      <td>1.0</td>\n",
       "      <td>0.0</td>\n",
       "      <td>2015</td>\n",
       "      <td>-0.338105</td>\n",
       "    </tr>\n",
       "    <tr>\n",
       "      <th>887377</th>\n",
       "      <td>12000.0</td>\n",
       "      <td>12000.0</td>\n",
       "      <td>60 months</td>\n",
       "      <td>19.99</td>\n",
       "      <td>E</td>\n",
       "      <td>64400.0</td>\n",
       "      <td>Jan-2015</td>\n",
       "      <td>27.19</td>\n",
       "      <td>8254.0</td>\n",
       "      <td>3787.67</td>\n",
       "      <td>Current</td>\n",
       "      <td>60</td>\n",
       "      <td>5</td>\n",
       "      <td>2015-01-30</td>\n",
       "      <td>2020-01-31</td>\n",
       "      <td>1.0</td>\n",
       "      <td>0.0</td>\n",
       "      <td>2015</td>\n",
       "      <td>-0.319131</td>\n",
       "    </tr>\n",
       "    <tr>\n",
       "      <th>887378</th>\n",
       "      <td>20000.0</td>\n",
       "      <td>20000.0</td>\n",
       "      <td>36 months</td>\n",
       "      <td>11.99</td>\n",
       "      <td>B</td>\n",
       "      <td>100000.0</td>\n",
       "      <td>Jan-2015</td>\n",
       "      <td>10.83</td>\n",
       "      <td>33266.0</td>\n",
       "      <td>7943.76</td>\n",
       "      <td>Current</td>\n",
       "      <td>36</td>\n",
       "      <td>2</td>\n",
       "      <td>2015-01-30</td>\n",
       "      <td>2018-01-31</td>\n",
       "      <td>1.0</td>\n",
       "      <td>0.0</td>\n",
       "      <td>2015</td>\n",
       "      <td>-0.264924</td>\n",
       "    </tr>\n",
       "  </tbody>\n",
       "</table>\n",
       "</div>"
      ],
      "text/plain": [
       "        loan_amnt  funded_amnt        term  int_rate grade  annual_inc  \\\n",
       "887374    10000.0      10000.0   36 months     11.99     B     31000.0   \n",
       "887375    24000.0      24000.0   36 months     11.99     B     79000.0   \n",
       "887376    13000.0      13000.0   60 months     15.99     D     35000.0   \n",
       "887377    12000.0      12000.0   60 months     19.99     E     64400.0   \n",
       "887378    20000.0      20000.0   36 months     11.99     B    100000.0   \n",
       "\n",
       "         issue_d    dti  revol_bal  total_pymnt loan_status  term_mm  grd_num  \\\n",
       "887374  Jan-2015  28.69    14037.0      3971.88     Current       36        2   \n",
       "887375  Jan-2015   3.90     8621.0      9532.39     Current       36        2   \n",
       "887376  Jan-2015  30.90    11031.0      3769.74     Current       60        4   \n",
       "887377  Jan-2015  27.19     8254.0      3787.67     Current       60        5   \n",
       "887378  Jan-2015  10.83    33266.0      7943.76     Current       36        2   \n",
       "\n",
       "         issue_dt    expr_dt  dummy  ispaid  yyyy    avgRet  \n",
       "887374 2015-01-30 2018-01-31    1.0     0.0  2015 -0.264924  \n",
       "887375 2015-01-30 2018-01-31    1.0     0.0  2015 -0.264927  \n",
       "887376 2015-01-30 2020-01-31    1.0     0.0  2015 -0.338105  \n",
       "887377 2015-01-30 2020-01-31    1.0     0.0  2015 -0.319131  \n",
       "887378 2015-01-30 2018-01-31    1.0     0.0  2015 -0.264924  "
      ]
     },
     "metadata": {},
     "output_type": "display_data"
    }
   ],
   "source": [
    "display(data.tail(5))"
   ]
  },
  {
   "cell_type": "markdown",
   "metadata": {},
   "source": [
    "#### Next, we summarize the data by looking at the range of values present in each column. This essentially takes all 887k+ loans in our data and presents the most salient features of the data column by column. Through this analysis, we can easily answer questions such as \"what is the average notional of the loans in our database?\" or \"what is the maximum interest rate across all the loans the firm has issued?\"\n",
    "\n",
    "#### This sort of descriptive summary has two purposes:\n",
    "\n",
    "#### a) It allows us to quickly see the possible range of values each of the loan attributes can take, which is helpful in detecting bad / missing / erroneous data\n",
    "#### b) It allows us to quickly see if our data conforms to our intuitive understanding of the loan business\n",
    "\n",
    "#### From this table, we can easily see that interest rates on our loans range between 5.32% and 28.99%, which seems reasonable and that the average loan amount is approximately 14,700."
   ]
  },
  {
   "cell_type": "code",
   "execution_count": 6,
   "metadata": {
    "scrolled": true
   },
   "outputs": [
    {
     "data": {
      "text/html": [
       "<div>\n",
       "<style scoped>\n",
       "    .dataframe tbody tr th:only-of-type {\n",
       "        vertical-align: middle;\n",
       "    }\n",
       "\n",
       "    .dataframe tbody tr th {\n",
       "        vertical-align: top;\n",
       "    }\n",
       "\n",
       "    .dataframe thead th {\n",
       "        text-align: right;\n",
       "    }\n",
       "</style>\n",
       "<table border=\"1\" class=\"dataframe\">\n",
       "  <thead>\n",
       "    <tr style=\"text-align: right;\">\n",
       "      <th></th>\n",
       "      <th>loan_amnt</th>\n",
       "      <th>funded_amnt</th>\n",
       "      <th>int_rate</th>\n",
       "      <th>annual_inc</th>\n",
       "      <th>dti</th>\n",
       "      <th>revol_bal</th>\n",
       "      <th>total_pymnt</th>\n",
       "      <th>funded_to_loan_ratio</th>\n",
       "    </tr>\n",
       "  </thead>\n",
       "  <tbody>\n",
       "    <tr>\n",
       "      <th>count</th>\n",
       "      <td>887379.00</td>\n",
       "      <td>887379.00</td>\n",
       "      <td>887379.00</td>\n",
       "      <td>887375.00</td>\n",
       "      <td>887379.00</td>\n",
       "      <td>887379.00</td>\n",
       "      <td>887379.00</td>\n",
       "      <td>887379.00</td>\n",
       "    </tr>\n",
       "    <tr>\n",
       "      <th>mean</th>\n",
       "      <td>14755.26</td>\n",
       "      <td>14741.88</td>\n",
       "      <td>13.25</td>\n",
       "      <td>75027.59</td>\n",
       "      <td>18.16</td>\n",
       "      <td>16920.79</td>\n",
       "      <td>7558.83</td>\n",
       "      <td>1.00</td>\n",
       "    </tr>\n",
       "    <tr>\n",
       "      <th>std</th>\n",
       "      <td>8435.46</td>\n",
       "      <td>8429.90</td>\n",
       "      <td>4.38</td>\n",
       "      <td>64698.30</td>\n",
       "      <td>17.19</td>\n",
       "      <td>22426.79</td>\n",
       "      <td>7871.24</td>\n",
       "      <td>0.02</td>\n",
       "    </tr>\n",
       "    <tr>\n",
       "      <th>min</th>\n",
       "      <td>500.00</td>\n",
       "      <td>500.00</td>\n",
       "      <td>5.32</td>\n",
       "      <td>0.00</td>\n",
       "      <td>0.00</td>\n",
       "      <td>0.00</td>\n",
       "      <td>0.00</td>\n",
       "      <td>0.10</td>\n",
       "    </tr>\n",
       "    <tr>\n",
       "      <th>25%</th>\n",
       "      <td>8000.00</td>\n",
       "      <td>8000.00</td>\n",
       "      <td>9.99</td>\n",
       "      <td>45000.00</td>\n",
       "      <td>11.91</td>\n",
       "      <td>6443.00</td>\n",
       "      <td>1914.59</td>\n",
       "      <td>1.00</td>\n",
       "    </tr>\n",
       "    <tr>\n",
       "      <th>50%</th>\n",
       "      <td>13000.00</td>\n",
       "      <td>13000.00</td>\n",
       "      <td>12.99</td>\n",
       "      <td>65000.00</td>\n",
       "      <td>17.65</td>\n",
       "      <td>11875.00</td>\n",
       "      <td>4895.00</td>\n",
       "      <td>1.00</td>\n",
       "    </tr>\n",
       "    <tr>\n",
       "      <th>75%</th>\n",
       "      <td>20000.00</td>\n",
       "      <td>20000.00</td>\n",
       "      <td>16.20</td>\n",
       "      <td>90000.00</td>\n",
       "      <td>23.95</td>\n",
       "      <td>20829.00</td>\n",
       "      <td>10616.81</td>\n",
       "      <td>1.00</td>\n",
       "    </tr>\n",
       "    <tr>\n",
       "      <th>max</th>\n",
       "      <td>35000.00</td>\n",
       "      <td>35000.00</td>\n",
       "      <td>28.99</td>\n",
       "      <td>9500000.00</td>\n",
       "      <td>9999.00</td>\n",
       "      <td>2904836.00</td>\n",
       "      <td>57777.58</td>\n",
       "      <td>1.00</td>\n",
       "    </tr>\n",
       "  </tbody>\n",
       "</table>\n",
       "</div>"
      ],
      "text/plain": [
       "       loan_amnt  funded_amnt   int_rate  annual_inc        dti   revol_bal  \\\n",
       "count  887379.00    887379.00  887379.00   887375.00  887379.00   887379.00   \n",
       "mean    14755.26     14741.88      13.25    75027.59      18.16    16920.79   \n",
       "std      8435.46      8429.90       4.38    64698.30      17.19    22426.79   \n",
       "min       500.00       500.00       5.32        0.00       0.00        0.00   \n",
       "25%      8000.00      8000.00       9.99    45000.00      11.91     6443.00   \n",
       "50%     13000.00     13000.00      12.99    65000.00      17.65    11875.00   \n",
       "75%     20000.00     20000.00      16.20    90000.00      23.95    20829.00   \n",
       "max     35000.00     35000.00      28.99  9500000.00    9999.00  2904836.00   \n",
       "\n",
       "       total_pymnt  funded_to_loan_ratio  \n",
       "count    887379.00             887379.00  \n",
       "mean       7558.83                  1.00  \n",
       "std        7871.24                  0.02  \n",
       "min           0.00                  0.10  \n",
       "25%        1914.59                  1.00  \n",
       "50%        4895.00                  1.00  \n",
       "75%       10616.81                  1.00  \n",
       "max       57777.58                  1.00  "
      ]
     },
     "metadata": {},
     "output_type": "display_data"
    }
   ],
   "source": [
    "# Test for outliers in the numeric data\n",
    "_data = data.reindex(columns = _COL_NUM)\n",
    "_data['funded_to_loan_ratio'] = _data['funded_amnt'] / _data['loan_amnt']\n",
    "display(_data.describe().round(2))"
   ]
  },
  {
   "cell_type": "markdown",
   "metadata": {},
   "source": [
    "#### One drawback of our summary table above is that we cannot directly examine non-numeric data. In the analysis below, we look at the list of all possible values that the non-numeric data take our in data set.\n",
    "\n",
    "#### From the output below, we see that the firm only issues loans with two kinds of terms: 36 months and 60 months. Moreover, there are 7 loan grades, ranging from A to G"
   ]
  },
  {
   "cell_type": "code",
   "execution_count": 7,
   "metadata": {},
   "outputs": [
    {
     "name": "stdout",
     "output_type": "stream",
     "text": [
      "Column term: [' 36 months', ' 60 months']\n",
      "Column grade: ['A', 'B', 'C', 'D', 'E', 'F', 'G']\n"
     ]
    }
   ],
   "source": [
    "# Check for the list of values possible in the non-numeric data\n",
    "for c in ['term', 'grade']:\n",
    "    print('Column ' + c + ': ' + str(sorted(list(set(data[c])))))"
   ]
  },
  {
   "cell_type": "markdown",
   "metadata": {},
   "source": [
    "#### Another drawback of the summary table is that when we have a lot of columns, it can be hard to detect patterns. Moreover, the summary table is not particularly visual. \n",
    "\n",
    "#### So, to take a look at the data graphically, we turn to histograms which excel at showing the range of possible values in the data. In a histogram, we first define buckets for a particular variable (say, loan interest rates) and then count how many loans fall into each bucket. This tells us whether most of our loans are relatively safe (that is, the proportion of loans in the 5% - 10% bucket is high) or are riskier (the proportion of loans in the 25% - 30% is high). We can (and do) plot a histogram for each numeric column we have and thus, analyze the distribution or range of each variable independently. "
   ]
  },
  {
   "cell_type": "code",
   "execution_count": 8,
   "metadata": {},
   "outputs": [
    {
     "data": {
      "text/plain": [
       "<Figure size 432x288 with 0 Axes>"
      ]
     },
     "metadata": {},
     "output_type": "display_data"
    },
    {
     "data": {
      "image/png": "[encoded data removed]",
      "text/plain": [
       "<Figure size 432x288 with 1 Axes>"
      ]
     },
     "metadata": {
      "needs_background": "light"
     },
     "output_type": "display_data"
    },
    {
     "data": {
      "text/plain": [
       "<Figure size 432x288 with 0 Axes>"
      ]
     },
     "metadata": {},
     "output_type": "display_data"
    },
    {
     "data": {
      "image/png": "[encoded data removed]",
      "text/plain": [
       "<Figure size 432x288 with 1 Axes>"
      ]
     },
     "metadata": {
      "needs_background": "light"
     },
     "output_type": "display_data"
    },
    {
     "data": {
      "text/plain": [
       "<Figure size 432x288 with 0 Axes>"
      ]
     },
     "metadata": {},
     "output_type": "display_data"
    },
    {
     "data": {
      "image/png": "[encoded data removed]",
      "text/plain": [
       "<Figure size 432x288 with 1 Axes>"
      ]
     },
     "metadata": {
      "needs_background": "light"
     },
     "output_type": "display_data"
    },
    {
     "data": {
      "text/plain": [
       "<Figure size 432x288 with 0 Axes>"
      ]
     },
     "metadata": {},
     "output_type": "display_data"
    },
    {
     "data": {
      "image/png": "[encoded data removed]",
      "text/plain": [
       "<Figure size 432x288 with 1 Axes>"
      ]
     },
     "metadata": {
      "needs_background": "light"
     },
     "output_type": "display_data"
    },
    {
     "data": {
      "text/plain": [
       "<Figure size 432x288 with 0 Axes>"
      ]
     },
     "metadata": {},
     "output_type": "display_data"
    },
    {
     "data": {
      "image/png": "[encoded data removed]",
      "text/plain": [
       "<Figure size 432x288 with 1 Axes>"
      ]
     },
     "metadata": {
      "needs_background": "light"
     },
     "output_type": "display_data"
    },
    {
     "data": {
      "text/plain": [
       "<Figure size 432x288 with 0 Axes>"
      ]
     },
     "metadata": {},
     "output_type": "display_data"
    },
    {
     "data": {
      "image/png": "[encoded data removed]",
      "text/plain": [
       "<Figure size 432x288 with 1 Axes>"
      ]
     },
     "metadata": {
      "needs_background": "light"
     },
     "output_type": "display_data"
    },
    {
     "data": {
      "text/plain": [
       "<Figure size 432x288 with 0 Axes>"
      ]
     },
     "metadata": {},
     "output_type": "display_data"
    },
    {
     "data": {
      "image/png": "[encoded data removed]",
      "text/plain": [
       "<Figure size 432x288 with 1 Axes>"
      ]
     },
     "metadata": {
      "needs_background": "light"
     },
     "output_type": "display_data"
    }
   ],
   "source": [
    "# Plot histograms of the numeric columnss\n",
    "for c in _COL_NUM:\n",
    "    plt.figure()\n",
    "    _data = data.reindex(columns = [c]).plot.hist(bins = 20)\n",
    "    plt.show()"
   ]
  },
  {
   "cell_type": "markdown",
   "metadata": {},
   "source": [
    "#### We also use sorted line charts to complement the histograms. A sorted line chart sorts our data (say, loan interest rates) from low to high and then plots the values as an increasing line. The shape of this line can be pretty informative; if the line rises slowly and then shoots up to some high value, then we know that most of our loan interest rates are low. If the line shoots up to an unintuitive value however, we know that our data has outliers or errors."
   ]
  },
  {
   "cell_type": "code",
   "execution_count": 9,
   "metadata": {},
   "outputs": [
    {
     "data": {
      "text/plain": [
       "<Figure size 432x288 with 0 Axes>"
      ]
     },
     "metadata": {},
     "output_type": "display_data"
    },
    {
     "data": {
      "image/png": "[encoded data removed]",
      "text/plain": [
       "<Figure size 432x288 with 1 Axes>"
      ]
     },
     "metadata": {
      "needs_background": "light"
     },
     "output_type": "display_data"
    },
    {
     "data": {
      "text/plain": [
       "<Figure size 432x288 with 0 Axes>"
      ]
     },
     "metadata": {},
     "output_type": "display_data"
    },
    {
     "data": {
      "image/png": "[encoded data removed]",
      "text/plain": [
       "<Figure size 432x288 with 1 Axes>"
      ]
     },
     "metadata": {
      "needs_background": "light"
     },
     "output_type": "display_data"
    },
    {
     "data": {
      "text/plain": [
       "<Figure size 432x288 with 0 Axes>"
      ]
     },
     "metadata": {},
     "output_type": "display_data"
    },
    {
     "data": {
      "image/png": "[encoded data removed]",
      "text/plain": [
       "<Figure size 432x288 with 1 Axes>"
      ]
     },
     "metadata": {
      "needs_background": "light"
     },
     "output_type": "display_data"
    },
    {
     "data": {
      "text/plain": [
       "<Figure size 432x288 with 0 Axes>"
      ]
     },
     "metadata": {},
     "output_type": "display_data"
    },
    {
     "data": {
      "image/png": "[encoded data removed]",
      "text/plain": [
       "<Figure size 432x288 with 1 Axes>"
      ]
     },
     "metadata": {
      "needs_background": "light"
     },
     "output_type": "display_data"
    },
    {
     "data": {
      "text/plain": [
       "<Figure size 432x288 with 0 Axes>"
      ]
     },
     "metadata": {},
     "output_type": "display_data"
    },
    {
     "data": {
      "image/png": "[encoded data removed]",
      "text/plain": [
       "<Figure size 432x288 with 1 Axes>"
      ]
     },
     "metadata": {
      "needs_background": "light"
     },
     "output_type": "display_data"
    },
    {
     "data": {
      "text/plain": [
       "<Figure size 432x288 with 0 Axes>"
      ]
     },
     "metadata": {},
     "output_type": "display_data"
    },
    {
     "data": {
      "image/png": "[encoded data removed]",
      "text/plain": [
       "<Figure size 432x288 with 1 Axes>"
      ]
     },
     "metadata": {
      "needs_background": "light"
     },
     "output_type": "display_data"
    },
    {
     "data": {
      "text/plain": [
       "<Figure size 432x288 with 0 Axes>"
      ]
     },
     "metadata": {},
     "output_type": "display_data"
    },
    {
     "data": {
      "image/png": "[encoded data removed]",
      "text/plain": [
       "<Figure size 432x288 with 1 Axes>"
      ]
     },
     "metadata": {
      "needs_background": "light"
     },
     "output_type": "display_data"
    }
   ],
   "source": [
    "# Plot sorted line charts of the numeric columnss\n",
    "for c in _COL_NUM:\n",
    "    plt.figure()\n",
    "    _data = data.reindex(columns = [c])\n",
    "    _data = _data.sort_values(by = [c])\n",
    "    _data = pandas.DataFrame(columns = [c], data = _data.values)\n",
    "    _data.plot()\n",
    "    plt.show()"
   ]
  },
  {
   "cell_type": "markdown",
   "metadata": {},
   "source": [
    "#### Based on the findings from the summary table, the histogram charts and the sorted line charts, we perform some basic data cleaning as follows:\n",
    "\n",
    "#### a) We set all debt-to-income (i.e. dti) values to missing if we have zero annual income (this affects only 2 loans)\n",
    "#### b) We set a (high) ceiling on extremely high values of annual income (i.e. annual_inc), debt-to-income (i.e. dti) and revolving balance (i.e. revol_bal). This has little effect on the final results but makes our models much more stable"
   ]
  },
  {
   "cell_type": "code",
   "execution_count": 10,
   "metadata": {},
   "outputs": [],
   "source": [
    "# ===========================================================\n",
    "# Cell to clean the data\n",
    "# ===========================================================\n",
    "\n",
    "# Set DTI to missing if self-reported income is zero\n",
    "data.loc[data['annual_inc'] == 0.0, 'dti'] = np.NaN\n",
    "\n",
    "# Winsorize annual_inc, dti and revol_bal at the 99.9th percentile to avoid huge skew issues\n",
    "for c in ['annual_inc', 'dti', 'revol_bal']:\n",
    "    quantile = data[c].quantile([0.999]).values[0]\n",
    "    data.loc[data[c] >= quantile, c] = quantile\n",
    "\n",
    "# Delete variables we might reuse later\n",
    "del c, quantile"
   ]
  },
  {
   "cell_type": "markdown",
   "metadata": {},
   "source": [
    "#### Next, we continue our data exploration by taking the concept of the summary table one step further. Specifically, the summary table gave us an idea of the ranges of our data across the entire spectrum of loans. But, what if we wanted to know the average interest rate by each of the seven grades of loans? Or, perhaps, the total number of loans issued by year? \n",
    "\n",
    "#### To answer these sorts of questions, we compute a \"grouped\" summary table, where we summarize our loan characteristics within each group (vs. over the entire universe or loans)"
   ]
  },
  {
   "cell_type": "markdown",
   "metadata": {},
   "source": [
    "#### The first grouping we analyze is the year of issuance, which allows us to see how the loan volumes have changed over time. From this, we can see that total issuance has increased dramatically since 2007 (the \"dummy\" column), while average loan interest rates and borrower incomes have remained relatively stable over time. Moreover, the percentage of loans fully paid off (the \"ispaid\" column) remains relatively steady (and high) except for the last 3 years, which makes sense since a lot of the loans issued recently are still outstanding."
   ]
  },
  {
   "cell_type": "code",
   "execution_count": 11,
   "metadata": {
    "scrolled": true
   },
   "outputs": [
    {
     "data": {
      "text/html": [
       "<div>\n",
       "<style scoped>\n",
       "    .dataframe tbody tr th:only-of-type {\n",
       "        vertical-align: middle;\n",
       "    }\n",
       "\n",
       "    .dataframe tbody tr th {\n",
       "        vertical-align: top;\n",
       "    }\n",
       "\n",
       "    .dataframe thead th {\n",
       "        text-align: right;\n",
       "    }\n",
       "</style>\n",
       "<table border=\"1\" class=\"dataframe\">\n",
       "  <thead>\n",
       "    <tr style=\"text-align: right;\">\n",
       "      <th></th>\n",
       "      <th>dummy</th>\n",
       "      <th>int_rate</th>\n",
       "      <th>loan_amnt</th>\n",
       "      <th>annual_inc</th>\n",
       "      <th>ispaid</th>\n",
       "    </tr>\n",
       "    <tr>\n",
       "      <th>yyyy</th>\n",
       "      <th></th>\n",
       "      <th></th>\n",
       "      <th></th>\n",
       "      <th></th>\n",
       "      <th></th>\n",
       "    </tr>\n",
       "  </thead>\n",
       "  <tbody>\n",
       "    <tr>\n",
       "      <th>2007</th>\n",
       "      <td>603.0</td>\n",
       "      <td>11.83</td>\n",
       "      <td>8254.52</td>\n",
       "      <td>64521.88</td>\n",
       "      <td>0.74</td>\n",
       "    </tr>\n",
       "    <tr>\n",
       "      <th>2008</th>\n",
       "      <td>2393.0</td>\n",
       "      <td>12.06</td>\n",
       "      <td>8825.43</td>\n",
       "      <td>64547.14</td>\n",
       "      <td>0.79</td>\n",
       "    </tr>\n",
       "    <tr>\n",
       "      <th>2009</th>\n",
       "      <td>5281.0</td>\n",
       "      <td>12.44</td>\n",
       "      <td>9833.03</td>\n",
       "      <td>68349.27</td>\n",
       "      <td>0.86</td>\n",
       "    </tr>\n",
       "    <tr>\n",
       "      <th>2010</th>\n",
       "      <td>12537.0</td>\n",
       "      <td>11.99</td>\n",
       "      <td>10528.24</td>\n",
       "      <td>68077.61</td>\n",
       "      <td>0.86</td>\n",
       "    </tr>\n",
       "    <tr>\n",
       "      <th>2011</th>\n",
       "      <td>21721.0</td>\n",
       "      <td>12.22</td>\n",
       "      <td>12047.50</td>\n",
       "      <td>69256.43</td>\n",
       "      <td>0.76</td>\n",
       "    </tr>\n",
       "    <tr>\n",
       "      <th>2012</th>\n",
       "      <td>53367.0</td>\n",
       "      <td>13.64</td>\n",
       "      <td>13461.71</td>\n",
       "      <td>69362.25</td>\n",
       "      <td>0.78</td>\n",
       "    </tr>\n",
       "    <tr>\n",
       "      <th>2013</th>\n",
       "      <td>134755.0</td>\n",
       "      <td>14.53</td>\n",
       "      <td>14708.09</td>\n",
       "      <td>73034.93</td>\n",
       "      <td>0.42</td>\n",
       "    </tr>\n",
       "    <tr>\n",
       "      <th>2014</th>\n",
       "      <td>235628.0</td>\n",
       "      <td>13.77</td>\n",
       "      <td>14870.18</td>\n",
       "      <td>74575.66</td>\n",
       "      <td>0.23</td>\n",
       "    </tr>\n",
       "    <tr>\n",
       "      <th>2015</th>\n",
       "      <td>421094.0</td>\n",
       "      <td>12.60</td>\n",
       "      <td>15240.26</td>\n",
       "      <td>76314.64</td>\n",
       "      <td>0.05</td>\n",
       "    </tr>\n",
       "  </tbody>\n",
       "</table>\n",
       "</div>"
      ],
      "text/plain": [
       "         dummy  int_rate  loan_amnt  annual_inc  ispaid\n",
       "yyyy                                                   \n",
       "2007     603.0     11.83    8254.52    64521.88    0.74\n",
       "2008    2393.0     12.06    8825.43    64547.14    0.79\n",
       "2009    5281.0     12.44    9833.03    68349.27    0.86\n",
       "2010   12537.0     11.99   10528.24    68077.61    0.86\n",
       "2011   21721.0     12.22   12047.50    69256.43    0.76\n",
       "2012   53367.0     13.64   13461.71    69362.25    0.78\n",
       "2013  134755.0     14.53   14708.09    73034.93    0.42\n",
       "2014  235628.0     13.77   14870.18    74575.66    0.23\n",
       "2015  421094.0     12.60   15240.26    76314.64    0.05"
      ]
     },
     "metadata": {},
     "output_type": "display_data"
    }
   ],
   "source": [
    "group = data.groupby(by = ['yyyy'])\n",
    "group = group.agg({'dummy': np.sum, 'int_rate': np.mean, 'loan_amnt': np.mean, 'annual_inc': np.mean, 'ispaid': np.mean})\n",
    "display(group.round(2))\n",
    "del group"
   ]
  },
  {
   "cell_type": "markdown",
   "metadata": {},
   "source": [
    "#### The next grouping we analyze is the loan grade which reveals some interesting (and intuitive) characteristics of the data. Specifically, interest rates rise as we go from grade A to grade G, indicating that grade A loans are the safest. Moreover, the total issuance is concentrated in grades A - D, indicating that the firm mostly makes relatively safe loans. In fact, the total number of grade G loans ever issued is a paltry 5,489 (out of a total of 887,379 loans!)"
   ]
  },
  {
   "cell_type": "code",
   "execution_count": 12,
   "metadata": {},
   "outputs": [
    {
     "data": {
      "text/html": [
       "<div>\n",
       "<style scoped>\n",
       "    .dataframe tbody tr th:only-of-type {\n",
       "        vertical-align: middle;\n",
       "    }\n",
       "\n",
       "    .dataframe tbody tr th {\n",
       "        vertical-align: top;\n",
       "    }\n",
       "\n",
       "    .dataframe thead th {\n",
       "        text-align: right;\n",
       "    }\n",
       "</style>\n",
       "<table border=\"1\" class=\"dataframe\">\n",
       "  <thead>\n",
       "    <tr style=\"text-align: right;\">\n",
       "      <th></th>\n",
       "      <th>dummy</th>\n",
       "      <th>int_rate</th>\n",
       "      <th>loan_amnt</th>\n",
       "      <th>annual_inc</th>\n",
       "      <th>ispaid</th>\n",
       "    </tr>\n",
       "    <tr>\n",
       "      <th>grade</th>\n",
       "      <th></th>\n",
       "      <th></th>\n",
       "      <th></th>\n",
       "      <th></th>\n",
       "      <th></th>\n",
       "    </tr>\n",
       "  </thead>\n",
       "  <tbody>\n",
       "    <tr>\n",
       "      <th>A</th>\n",
       "      <td>148202.0</td>\n",
       "      <td>7.24</td>\n",
       "      <td>14038.86</td>\n",
       "      <td>86095.61</td>\n",
       "      <td>0.27</td>\n",
       "    </tr>\n",
       "    <tr>\n",
       "      <th>B</th>\n",
       "      <td>254535.0</td>\n",
       "      <td>10.83</td>\n",
       "      <td>13642.97</td>\n",
       "      <td>74995.09</td>\n",
       "      <td>0.26</td>\n",
       "    </tr>\n",
       "    <tr>\n",
       "      <th>C</th>\n",
       "      <td>245860.0</td>\n",
       "      <td>13.98</td>\n",
       "      <td>14466.31</td>\n",
       "      <td>71173.63</td>\n",
       "      <td>0.22</td>\n",
       "    </tr>\n",
       "    <tr>\n",
       "      <th>D</th>\n",
       "      <td>139542.0</td>\n",
       "      <td>17.18</td>\n",
       "      <td>15459.51</td>\n",
       "      <td>68887.74</td>\n",
       "      <td>0.22</td>\n",
       "    </tr>\n",
       "    <tr>\n",
       "      <th>E</th>\n",
       "      <td>70705.0</td>\n",
       "      <td>19.90</td>\n",
       "      <td>17998.15</td>\n",
       "      <td>71731.06</td>\n",
       "      <td>0.19</td>\n",
       "    </tr>\n",
       "    <tr>\n",
       "      <th>F</th>\n",
       "      <td>23046.0</td>\n",
       "      <td>23.58</td>\n",
       "      <td>19139.16</td>\n",
       "      <td>73581.18</td>\n",
       "      <td>0.21</td>\n",
       "    </tr>\n",
       "    <tr>\n",
       "      <th>G</th>\n",
       "      <td>5489.0</td>\n",
       "      <td>25.63</td>\n",
       "      <td>20538.56</td>\n",
       "      <td>79440.03</td>\n",
       "      <td>0.23</td>\n",
       "    </tr>\n",
       "  </tbody>\n",
       "</table>\n",
       "</div>"
      ],
      "text/plain": [
       "          dummy  int_rate  loan_amnt  annual_inc  ispaid\n",
       "grade                                                   \n",
       "A      148202.0      7.24   14038.86    86095.61    0.27\n",
       "B      254535.0     10.83   13642.97    74995.09    0.26\n",
       "C      245860.0     13.98   14466.31    71173.63    0.22\n",
       "D      139542.0     17.18   15459.51    68887.74    0.22\n",
       "E       70705.0     19.90   17998.15    71731.06    0.19\n",
       "F       23046.0     23.58   19139.16    73581.18    0.21\n",
       "G        5489.0     25.63   20538.56    79440.03    0.23"
      ]
     },
     "metadata": {},
     "output_type": "display_data"
    }
   ],
   "source": [
    "group = data.groupby(by = ['grade'])\n",
    "group = group.agg({'dummy': np.sum, 'int_rate': np.mean, 'loan_amnt': np.mean, 'annual_inc': np.mean, 'ispaid': np.mean})\n",
    "display(group.round(2))\n",
    "del group"
   ]
  },
  {
   "cell_type": "markdown",
   "metadata": {},
   "source": [
    "#### The next grouping we analyze is a combination of issuance year and loan term. This allows us to see how the firm's mix of business has changed over time. We notice that, at the start of the dataset, the firm only made 36 month loans and expanded into 60 month loans in 2010. That said, even as of 2015, the majority of the firm's business (283k out of 420k loans, or 67%) was in the 36 month loan market."
   ]
  },
  {
   "cell_type": "code",
   "execution_count": 13,
   "metadata": {},
   "outputs": [
    {
     "data": {
      "text/html": [
       "<div>\n",
       "<style scoped>\n",
       "    .dataframe tbody tr th:only-of-type {\n",
       "        vertical-align: middle;\n",
       "    }\n",
       "\n",
       "    .dataframe tbody tr th {\n",
       "        vertical-align: top;\n",
       "    }\n",
       "\n",
       "    .dataframe thead th {\n",
       "        text-align: right;\n",
       "    }\n",
       "</style>\n",
       "<table border=\"1\" class=\"dataframe\">\n",
       "  <thead>\n",
       "    <tr style=\"text-align: right;\">\n",
       "      <th></th>\n",
       "      <th></th>\n",
       "      <th>dummy</th>\n",
       "      <th>int_rate</th>\n",
       "      <th>loan_amnt</th>\n",
       "      <th>annual_inc</th>\n",
       "      <th>ispaid</th>\n",
       "    </tr>\n",
       "    <tr>\n",
       "      <th>yyyy</th>\n",
       "      <th>term</th>\n",
       "      <th></th>\n",
       "      <th></th>\n",
       "      <th></th>\n",
       "      <th></th>\n",
       "      <th></th>\n",
       "    </tr>\n",
       "  </thead>\n",
       "  <tbody>\n",
       "    <tr>\n",
       "      <th>2007</th>\n",
       "      <th>36 months</th>\n",
       "      <td>603.0</td>\n",
       "      <td>11.83</td>\n",
       "      <td>8254.52</td>\n",
       "      <td>64521.88</td>\n",
       "      <td>0.74</td>\n",
       "    </tr>\n",
       "    <tr>\n",
       "      <th>2008</th>\n",
       "      <th>36 months</th>\n",
       "      <td>2393.0</td>\n",
       "      <td>12.06</td>\n",
       "      <td>8825.43</td>\n",
       "      <td>64547.14</td>\n",
       "      <td>0.79</td>\n",
       "    </tr>\n",
       "    <tr>\n",
       "      <th>2009</th>\n",
       "      <th>36 months</th>\n",
       "      <td>5281.0</td>\n",
       "      <td>12.44</td>\n",
       "      <td>9833.03</td>\n",
       "      <td>68349.27</td>\n",
       "      <td>0.86</td>\n",
       "    </tr>\n",
       "    <tr>\n",
       "      <th rowspan=\"2\" valign=\"top\">2010</th>\n",
       "      <th>36 months</th>\n",
       "      <td>9156.0</td>\n",
       "      <td>11.31</td>\n",
       "      <td>9801.32</td>\n",
       "      <td>67343.68</td>\n",
       "      <td>0.89</td>\n",
       "    </tr>\n",
       "    <tr>\n",
       "      <th>60 months</th>\n",
       "      <td>3381.0</td>\n",
       "      <td>13.83</td>\n",
       "      <td>12496.79</td>\n",
       "      <td>70065.15</td>\n",
       "      <td>0.77</td>\n",
       "    </tr>\n",
       "    <tr>\n",
       "      <th rowspan=\"2\" valign=\"top\">2011</th>\n",
       "      <th>36 months</th>\n",
       "      <td>14101.0</td>\n",
       "      <td>10.55</td>\n",
       "      <td>9421.14</td>\n",
       "      <td>66392.84</td>\n",
       "      <td>0.89</td>\n",
       "    </tr>\n",
       "    <tr>\n",
       "      <th>60 months</th>\n",
       "      <td>7620.0</td>\n",
       "      <td>15.31</td>\n",
       "      <td>16907.66</td>\n",
       "      <td>74555.58</td>\n",
       "      <td>0.51</td>\n",
       "    </tr>\n",
       "    <tr>\n",
       "      <th rowspan=\"2\" valign=\"top\">2012</th>\n",
       "      <th>36 months</th>\n",
       "      <td>43470.0</td>\n",
       "      <td>12.63</td>\n",
       "      <td>11681.60</td>\n",
       "      <td>66728.34</td>\n",
       "      <td>0.86</td>\n",
       "    </tr>\n",
       "    <tr>\n",
       "      <th>60 months</th>\n",
       "      <td>9897.0</td>\n",
       "      <td>18.08</td>\n",
       "      <td>21280.38</td>\n",
       "      <td>80931.03</td>\n",
       "      <td>0.40</td>\n",
       "    </tr>\n",
       "    <tr>\n",
       "      <th rowspan=\"2\" valign=\"top\">2013</th>\n",
       "      <th>36 months</th>\n",
       "      <td>100380.0</td>\n",
       "      <td>13.37</td>\n",
       "      <td>12668.17</td>\n",
       "      <td>70831.71</td>\n",
       "      <td>0.46</td>\n",
       "    </tr>\n",
       "    <tr>\n",
       "      <th>60 months</th>\n",
       "      <td>34375.0</td>\n",
       "      <td>17.93</td>\n",
       "      <td>20664.96</td>\n",
       "      <td>79468.66</td>\n",
       "      <td>0.31</td>\n",
       "    </tr>\n",
       "    <tr>\n",
       "      <th rowspan=\"2\" valign=\"top\">2014</th>\n",
       "      <th>36 months</th>\n",
       "      <td>162569.0</td>\n",
       "      <td>12.47</td>\n",
       "      <td>12585.61</td>\n",
       "      <td>72177.37</td>\n",
       "      <td>0.26</td>\n",
       "    </tr>\n",
       "    <tr>\n",
       "      <th>60 months</th>\n",
       "      <td>73059.0</td>\n",
       "      <td>16.67</td>\n",
       "      <td>19953.73</td>\n",
       "      <td>79912.26</td>\n",
       "      <td>0.18</td>\n",
       "    </tr>\n",
       "    <tr>\n",
       "      <th rowspan=\"2\" valign=\"top\">2015</th>\n",
       "      <th>36 months</th>\n",
       "      <td>283172.0</td>\n",
       "      <td>11.28</td>\n",
       "      <td>12806.47</td>\n",
       "      <td>73829.48</td>\n",
       "      <td>0.06</td>\n",
       "    </tr>\n",
       "    <tr>\n",
       "      <th>60 months</th>\n",
       "      <td>137922.0</td>\n",
       "      <td>15.32</td>\n",
       "      <td>20237.14</td>\n",
       "      <td>81416.99</td>\n",
       "      <td>0.05</td>\n",
       "    </tr>\n",
       "  </tbody>\n",
       "</table>\n",
       "</div>"
      ],
      "text/plain": [
       "                    dummy  int_rate  loan_amnt  annual_inc  ispaid\n",
       "yyyy term                                                         \n",
       "2007  36 months     603.0     11.83    8254.52    64521.88    0.74\n",
       "2008  36 months    2393.0     12.06    8825.43    64547.14    0.79\n",
       "2009  36 months    5281.0     12.44    9833.03    68349.27    0.86\n",
       "2010  36 months    9156.0     11.31    9801.32    67343.68    0.89\n",
       "      60 months    3381.0     13.83   12496.79    70065.15    0.77\n",
       "2011  36 months   14101.0     10.55    9421.14    66392.84    0.89\n",
       "      60 months    7620.0     15.31   16907.66    74555.58    0.51\n",
       "2012  36 months   43470.0     12.63   11681.60    66728.34    0.86\n",
       "      60 months    9897.0     18.08   21280.38    80931.03    0.40\n",
       "2013  36 months  100380.0     13.37   12668.17    70831.71    0.46\n",
       "      60 months   34375.0     17.93   20664.96    79468.66    0.31\n",
       "2014  36 months  162569.0     12.47   12585.61    72177.37    0.26\n",
       "      60 months   73059.0     16.67   19953.73    79912.26    0.18\n",
       "2015  36 months  283172.0     11.28   12806.47    73829.48    0.06\n",
       "      60 months  137922.0     15.32   20237.14    81416.99    0.05"
      ]
     },
     "metadata": {},
     "output_type": "display_data"
    }
   ],
   "source": [
    "group = data.groupby(by = ['yyyy', 'term'])\n",
    "group = group.agg({'dummy': np.sum, 'int_rate': np.mean, 'loan_amnt': np.mean, 'annual_inc': np.mean, 'ispaid': np.mean})\n",
    "display(group.round(2))\n",
    "del group"
   ]
  },
  {
   "cell_type": "markdown",
   "metadata": {
    "slideshow": {
     "slide_type": "-"
    }
   },
   "source": [
    "#### The final grouping we analyze is a combination of issuance year and loan grade where we document that the number of loans issued, the average interest rate and the percentage of loans paid decline, increase and decline respectively as we go from grades A to G across most of the years in our dataset. This tells us that the data is not only intuitive in aggregate but is also broadly consistent across a period where the firm's business was expanding rapidly."
   ]
  },
  {
   "cell_type": "code",
   "execution_count": 14,
   "metadata": {},
   "outputs": [
    {
     "data": {
      "text/html": [
       "<div>\n",
       "<style scoped>\n",
       "    .dataframe tbody tr th:only-of-type {\n",
       "        vertical-align: middle;\n",
       "    }\n",
       "\n",
       "    .dataframe tbody tr th {\n",
       "        vertical-align: top;\n",
       "    }\n",
       "\n",
       "    .dataframe thead tr th {\n",
       "        text-align: left;\n",
       "    }\n",
       "\n",
       "    .dataframe thead tr:last-of-type th {\n",
       "        text-align: right;\n",
       "    }\n",
       "</style>\n",
       "<table border=\"1\" class=\"dataframe\">\n",
       "  <thead>\n",
       "    <tr>\n",
       "      <th></th>\n",
       "      <th colspan=\"7\" halign=\"left\">dummy</th>\n",
       "    </tr>\n",
       "    <tr>\n",
       "      <th>grade</th>\n",
       "      <th>A</th>\n",
       "      <th>B</th>\n",
       "      <th>C</th>\n",
       "      <th>D</th>\n",
       "      <th>E</th>\n",
       "      <th>F</th>\n",
       "      <th>G</th>\n",
       "    </tr>\n",
       "    <tr>\n",
       "      <th>yyyy</th>\n",
       "      <th></th>\n",
       "      <th></th>\n",
       "      <th></th>\n",
       "      <th></th>\n",
       "      <th></th>\n",
       "      <th></th>\n",
       "      <th></th>\n",
       "    </tr>\n",
       "  </thead>\n",
       "  <tbody>\n",
       "    <tr>\n",
       "      <th>2007</th>\n",
       "      <td>78.0</td>\n",
       "      <td>98.0</td>\n",
       "      <td>141.0</td>\n",
       "      <td>99.0</td>\n",
       "      <td>100.0</td>\n",
       "      <td>52.0</td>\n",
       "      <td>35.0</td>\n",
       "    </tr>\n",
       "    <tr>\n",
       "      <th>2008</th>\n",
       "      <td>318.0</td>\n",
       "      <td>594.0</td>\n",
       "      <td>580.0</td>\n",
       "      <td>419.0</td>\n",
       "      <td>285.0</td>\n",
       "      <td>111.0</td>\n",
       "      <td>86.0</td>\n",
       "    </tr>\n",
       "    <tr>\n",
       "      <th>2009</th>\n",
       "      <td>1203.0</td>\n",
       "      <td>1445.0</td>\n",
       "      <td>1348.0</td>\n",
       "      <td>817.0</td>\n",
       "      <td>308.0</td>\n",
       "      <td>105.0</td>\n",
       "      <td>55.0</td>\n",
       "    </tr>\n",
       "    <tr>\n",
       "      <th>2010</th>\n",
       "      <td>2830.0</td>\n",
       "      <td>3687.0</td>\n",
       "      <td>2729.0</td>\n",
       "      <td>1885.0</td>\n",
       "      <td>962.0</td>\n",
       "      <td>311.0</td>\n",
       "      <td>133.0</td>\n",
       "    </tr>\n",
       "    <tr>\n",
       "      <th>2011</th>\n",
       "      <td>5754.0</td>\n",
       "      <td>6565.0</td>\n",
       "      <td>3942.0</td>\n",
       "      <td>2796.0</td>\n",
       "      <td>1739.0</td>\n",
       "      <td>722.0</td>\n",
       "      <td>203.0</td>\n",
       "    </tr>\n",
       "    <tr>\n",
       "      <th>2012</th>\n",
       "      <td>10901.0</td>\n",
       "      <td>18507.0</td>\n",
       "      <td>11875.0</td>\n",
       "      <td>7323.0</td>\n",
       "      <td>3185.0</td>\n",
       "      <td>1315.0</td>\n",
       "      <td>261.0</td>\n",
       "    </tr>\n",
       "    <tr>\n",
       "      <th>2013</th>\n",
       "      <td>17675.0</td>\n",
       "      <td>44098.0</td>\n",
       "      <td>38113.0</td>\n",
       "      <td>20558.0</td>\n",
       "      <td>9057.0</td>\n",
       "      <td>4390.0</td>\n",
       "      <td>864.0</td>\n",
       "    </tr>\n",
       "    <tr>\n",
       "      <th>2014</th>\n",
       "      <td>36108.0</td>\n",
       "      <td>61935.0</td>\n",
       "      <td>66565.0</td>\n",
       "      <td>42991.0</td>\n",
       "      <td>20121.0</td>\n",
       "      <td>6223.0</td>\n",
       "      <td>1685.0</td>\n",
       "    </tr>\n",
       "    <tr>\n",
       "      <th>2015</th>\n",
       "      <td>73335.0</td>\n",
       "      <td>117606.0</td>\n",
       "      <td>120567.0</td>\n",
       "      <td>62654.0</td>\n",
       "      <td>34948.0</td>\n",
       "      <td>9817.0</td>\n",
       "      <td>2167.0</td>\n",
       "    </tr>\n",
       "  </tbody>\n",
       "</table>\n",
       "</div>"
      ],
      "text/plain": [
       "         dummy                                                      \n",
       "grade        A         B         C        D        E       F       G\n",
       "yyyy                                                                \n",
       "2007      78.0      98.0     141.0     99.0    100.0    52.0    35.0\n",
       "2008     318.0     594.0     580.0    419.0    285.0   111.0    86.0\n",
       "2009    1203.0    1445.0    1348.0    817.0    308.0   105.0    55.0\n",
       "2010    2830.0    3687.0    2729.0   1885.0    962.0   311.0   133.0\n",
       "2011    5754.0    6565.0    3942.0   2796.0   1739.0   722.0   203.0\n",
       "2012   10901.0   18507.0   11875.0   7323.0   3185.0  1315.0   261.0\n",
       "2013   17675.0   44098.0   38113.0  20558.0   9057.0  4390.0   864.0\n",
       "2014   36108.0   61935.0   66565.0  42991.0  20121.0  6223.0  1685.0\n",
       "2015   73335.0  117606.0  120567.0  62654.0  34948.0  9817.0  2167.0"
      ]
     },
     "metadata": {},
     "output_type": "display_data"
    },
    {
     "data": {
      "text/html": [
       "<div>\n",
       "<style scoped>\n",
       "    .dataframe tbody tr th:only-of-type {\n",
       "        vertical-align: middle;\n",
       "    }\n",
       "\n",
       "    .dataframe tbody tr th {\n",
       "        vertical-align: top;\n",
       "    }\n",
       "\n",
       "    .dataframe thead tr th {\n",
       "        text-align: left;\n",
       "    }\n",
       "\n",
       "    .dataframe thead tr:last-of-type th {\n",
       "        text-align: right;\n",
       "    }\n",
       "</style>\n",
       "<table border=\"1\" class=\"dataframe\">\n",
       "  <thead>\n",
       "    <tr>\n",
       "      <th></th>\n",
       "      <th colspan=\"7\" halign=\"left\">int_rate</th>\n",
       "    </tr>\n",
       "    <tr>\n",
       "      <th>grade</th>\n",
       "      <th>A</th>\n",
       "      <th>B</th>\n",
       "      <th>C</th>\n",
       "      <th>D</th>\n",
       "      <th>E</th>\n",
       "      <th>F</th>\n",
       "      <th>G</th>\n",
       "    </tr>\n",
       "    <tr>\n",
       "      <th>yyyy</th>\n",
       "      <th></th>\n",
       "      <th></th>\n",
       "      <th></th>\n",
       "      <th></th>\n",
       "      <th></th>\n",
       "      <th></th>\n",
       "      <th></th>\n",
       "    </tr>\n",
       "  </thead>\n",
       "  <tbody>\n",
       "    <tr>\n",
       "      <th>2007</th>\n",
       "      <td>7.8</td>\n",
       "      <td>9.4</td>\n",
       "      <td>10.8</td>\n",
       "      <td>12.6</td>\n",
       "      <td>14.1</td>\n",
       "      <td>15.6</td>\n",
       "      <td>17.4</td>\n",
       "    </tr>\n",
       "    <tr>\n",
       "      <th>2008</th>\n",
       "      <td>8.4</td>\n",
       "      <td>10.4</td>\n",
       "      <td>11.8</td>\n",
       "      <td>13.4</td>\n",
       "      <td>14.8</td>\n",
       "      <td>16.3</td>\n",
       "      <td>18.1</td>\n",
       "    </tr>\n",
       "    <tr>\n",
       "      <th>2009</th>\n",
       "      <td>8.6</td>\n",
       "      <td>11.8</td>\n",
       "      <td>13.3</td>\n",
       "      <td>14.9</td>\n",
       "      <td>16.5</td>\n",
       "      <td>18.2</td>\n",
       "      <td>20.0</td>\n",
       "    </tr>\n",
       "    <tr>\n",
       "      <th>2010</th>\n",
       "      <td>7.1</td>\n",
       "      <td>10.7</td>\n",
       "      <td>13.5</td>\n",
       "      <td>15.3</td>\n",
       "      <td>16.9</td>\n",
       "      <td>18.7</td>\n",
       "      <td>20.7</td>\n",
       "    </tr>\n",
       "    <tr>\n",
       "      <th>2011</th>\n",
       "      <td>7.1</td>\n",
       "      <td>11.1</td>\n",
       "      <td>13.9</td>\n",
       "      <td>16.4</td>\n",
       "      <td>18.4</td>\n",
       "      <td>20.4</td>\n",
       "      <td>22.0</td>\n",
       "    </tr>\n",
       "    <tr>\n",
       "      <th>2012</th>\n",
       "      <td>7.6</td>\n",
       "      <td>12.2</td>\n",
       "      <td>15.3</td>\n",
       "      <td>18.4</td>\n",
       "      <td>21.1</td>\n",
       "      <td>23.1</td>\n",
       "      <td>24.5</td>\n",
       "    </tr>\n",
       "    <tr>\n",
       "      <th>2013</th>\n",
       "      <td>7.7</td>\n",
       "      <td>11.8</td>\n",
       "      <td>15.5</td>\n",
       "      <td>18.7</td>\n",
       "      <td>21.7</td>\n",
       "      <td>24.0</td>\n",
       "      <td>25.5</td>\n",
       "    </tr>\n",
       "    <tr>\n",
       "      <th>2014</th>\n",
       "      <td>7.5</td>\n",
       "      <td>11.2</td>\n",
       "      <td>14.2</td>\n",
       "      <td>17.1</td>\n",
       "      <td>20.4</td>\n",
       "      <td>24.2</td>\n",
       "      <td>25.9</td>\n",
       "    </tr>\n",
       "    <tr>\n",
       "      <th>2015</th>\n",
       "      <td>6.9</td>\n",
       "      <td>10.0</td>\n",
       "      <td>13.3</td>\n",
       "      <td>16.7</td>\n",
       "      <td>19.3</td>\n",
       "      <td>23.6</td>\n",
       "      <td>26.8</td>\n",
       "    </tr>\n",
       "  </tbody>\n",
       "</table>\n",
       "</div>"
      ],
      "text/plain": [
       "      int_rate                                    \n",
       "grade        A     B     C     D     E     F     G\n",
       "yyyy                                              \n",
       "2007       7.8   9.4  10.8  12.6  14.1  15.6  17.4\n",
       "2008       8.4  10.4  11.8  13.4  14.8  16.3  18.1\n",
       "2009       8.6  11.8  13.3  14.9  16.5  18.2  20.0\n",
       "2010       7.1  10.7  13.5  15.3  16.9  18.7  20.7\n",
       "2011       7.1  11.1  13.9  16.4  18.4  20.4  22.0\n",
       "2012       7.6  12.2  15.3  18.4  21.1  23.1  24.5\n",
       "2013       7.7  11.8  15.5  18.7  21.7  24.0  25.5\n",
       "2014       7.5  11.2  14.2  17.1  20.4  24.2  25.9\n",
       "2015       6.9  10.0  13.3  16.7  19.3  23.6  26.8"
      ]
     },
     "metadata": {},
     "output_type": "display_data"
    },
    {
     "data": {
      "text/html": [
       "<div>\n",
       "<style scoped>\n",
       "    .dataframe tbody tr th:only-of-type {\n",
       "        vertical-align: middle;\n",
       "    }\n",
       "\n",
       "    .dataframe tbody tr th {\n",
       "        vertical-align: top;\n",
       "    }\n",
       "\n",
       "    .dataframe thead tr th {\n",
       "        text-align: left;\n",
       "    }\n",
       "\n",
       "    .dataframe thead tr:last-of-type th {\n",
       "        text-align: right;\n",
       "    }\n",
       "</style>\n",
       "<table border=\"1\" class=\"dataframe\">\n",
       "  <thead>\n",
       "    <tr>\n",
       "      <th></th>\n",
       "      <th colspan=\"7\" halign=\"left\">ispaid</th>\n",
       "    </tr>\n",
       "    <tr>\n",
       "      <th>grade</th>\n",
       "      <th>A</th>\n",
       "      <th>B</th>\n",
       "      <th>C</th>\n",
       "      <th>D</th>\n",
       "      <th>E</th>\n",
       "      <th>F</th>\n",
       "      <th>G</th>\n",
       "    </tr>\n",
       "    <tr>\n",
       "      <th>yyyy</th>\n",
       "      <th></th>\n",
       "      <th></th>\n",
       "      <th></th>\n",
       "      <th></th>\n",
       "      <th></th>\n",
       "      <th></th>\n",
       "      <th></th>\n",
       "    </tr>\n",
       "  </thead>\n",
       "  <tbody>\n",
       "    <tr>\n",
       "      <th>2007</th>\n",
       "      <td>0.95</td>\n",
       "      <td>0.84</td>\n",
       "      <td>0.76</td>\n",
       "      <td>0.69</td>\n",
       "      <td>0.69</td>\n",
       "      <td>0.52</td>\n",
       "      <td>0.51</td>\n",
       "    </tr>\n",
       "    <tr>\n",
       "      <th>2008</th>\n",
       "      <td>0.94</td>\n",
       "      <td>0.83</td>\n",
       "      <td>0.79</td>\n",
       "      <td>0.74</td>\n",
       "      <td>0.74</td>\n",
       "      <td>0.66</td>\n",
       "      <td>0.67</td>\n",
       "    </tr>\n",
       "    <tr>\n",
       "      <th>2009</th>\n",
       "      <td>0.93</td>\n",
       "      <td>0.88</td>\n",
       "      <td>0.85</td>\n",
       "      <td>0.82</td>\n",
       "      <td>0.78</td>\n",
       "      <td>0.73</td>\n",
       "      <td>0.67</td>\n",
       "    </tr>\n",
       "    <tr>\n",
       "      <th>2010</th>\n",
       "      <td>0.95</td>\n",
       "      <td>0.88</td>\n",
       "      <td>0.85</td>\n",
       "      <td>0.79</td>\n",
       "      <td>0.75</td>\n",
       "      <td>0.69</td>\n",
       "      <td>0.67</td>\n",
       "    </tr>\n",
       "    <tr>\n",
       "      <th>2011</th>\n",
       "      <td>0.92</td>\n",
       "      <td>0.79</td>\n",
       "      <td>0.70</td>\n",
       "      <td>0.64</td>\n",
       "      <td>0.55</td>\n",
       "      <td>0.49</td>\n",
       "      <td>0.51</td>\n",
       "    </tr>\n",
       "    <tr>\n",
       "      <th>2012</th>\n",
       "      <td>0.92</td>\n",
       "      <td>0.83</td>\n",
       "      <td>0.75</td>\n",
       "      <td>0.67</td>\n",
       "      <td>0.48</td>\n",
       "      <td>0.43</td>\n",
       "      <td>0.39</td>\n",
       "    </tr>\n",
       "    <tr>\n",
       "      <th>2013</th>\n",
       "      <td>0.47</td>\n",
       "      <td>0.46</td>\n",
       "      <td>0.40</td>\n",
       "      <td>0.39</td>\n",
       "      <td>0.34</td>\n",
       "      <td>0.32</td>\n",
       "      <td>0.33</td>\n",
       "    </tr>\n",
       "    <tr>\n",
       "      <th>2014</th>\n",
       "      <td>0.24</td>\n",
       "      <td>0.25</td>\n",
       "      <td>0.23</td>\n",
       "      <td>0.22</td>\n",
       "      <td>0.21</td>\n",
       "      <td>0.22</td>\n",
       "      <td>0.21</td>\n",
       "    </tr>\n",
       "    <tr>\n",
       "      <th>2015</th>\n",
       "      <td>0.04</td>\n",
       "      <td>0.05</td>\n",
       "      <td>0.06</td>\n",
       "      <td>0.06</td>\n",
       "      <td>0.07</td>\n",
       "      <td>0.08</td>\n",
       "      <td>0.10</td>\n",
       "    </tr>\n",
       "  </tbody>\n",
       "</table>\n",
       "</div>"
      ],
      "text/plain": [
       "      ispaid                                    \n",
       "grade      A     B     C     D     E     F     G\n",
       "yyyy                                            \n",
       "2007    0.95  0.84  0.76  0.69  0.69  0.52  0.51\n",
       "2008    0.94  0.83  0.79  0.74  0.74  0.66  0.67\n",
       "2009    0.93  0.88  0.85  0.82  0.78  0.73  0.67\n",
       "2010    0.95  0.88  0.85  0.79  0.75  0.69  0.67\n",
       "2011    0.92  0.79  0.70  0.64  0.55  0.49  0.51\n",
       "2012    0.92  0.83  0.75  0.67  0.48  0.43  0.39\n",
       "2013    0.47  0.46  0.40  0.39  0.34  0.32  0.33\n",
       "2014    0.24  0.25  0.23  0.22  0.21  0.22  0.21\n",
       "2015    0.04  0.05  0.06  0.06  0.07  0.08  0.10"
      ]
     },
     "metadata": {},
     "output_type": "display_data"
    }
   ],
   "source": [
    "display(data.groupby(by = ['yyyy', 'grade']).agg({'dummy': np.sum}).unstack().round(0))\n",
    "display(data.groupby(by = ['yyyy', 'grade']).agg({'int_rate': np.mean}).unstack().round(1))\n",
    "display(data.groupby(by = ['yyyy', 'grade']).agg({'ispaid': np.mean}).unstack().round(2))"
   ]
  },
  {
   "cell_type": "markdown",
   "metadata": {},
   "source": [
    "#### Next, using the data above, we answer three key questions relevant to the business"
   ]
  },
  {
   "cell_type": "code",
   "execution_count": 15,
   "metadata": {},
   "outputs": [
    {
     "name": "stdout",
     "output_type": "stream",
     "text": [
      "Business Analysis Output:\n",
      "================================================\n",
      "Question 1: The percentage of loans that has been fully paid is: 90.0%\n",
      "Question 2: The most deliquent cohort is: (2007, 'G')\n",
      "Question 3: The average return by cohort is:\n"
     ]
    },
    {
     "data": {
      "text/html": [
       "<div>\n",
       "<style scoped>\n",
       "    .dataframe tbody tr th:only-of-type {\n",
       "        vertical-align: middle;\n",
       "    }\n",
       "\n",
       "    .dataframe tbody tr th {\n",
       "        vertical-align: top;\n",
       "    }\n",
       "\n",
       "    .dataframe thead th {\n",
       "        text-align: right;\n",
       "    }\n",
       "</style>\n",
       "<table border=\"1\" class=\"dataframe\">\n",
       "  <thead>\n",
       "    <tr style=\"text-align: right;\">\n",
       "      <th>grade</th>\n",
       "      <th>A</th>\n",
       "      <th>B</th>\n",
       "      <th>C</th>\n",
       "      <th>D</th>\n",
       "      <th>E</th>\n",
       "      <th>F</th>\n",
       "      <th>G</th>\n",
       "    </tr>\n",
       "    <tr>\n",
       "      <th>yyyy</th>\n",
       "      <th></th>\n",
       "      <th></th>\n",
       "      <th></th>\n",
       "      <th></th>\n",
       "      <th></th>\n",
       "      <th></th>\n",
       "      <th></th>\n",
       "    </tr>\n",
       "  </thead>\n",
       "  <tbody>\n",
       "    <tr>\n",
       "      <th>2007</th>\n",
       "      <td>2.7</td>\n",
       "      <td>-0.2</td>\n",
       "      <td>-0.8</td>\n",
       "      <td>-1.4</td>\n",
       "      <td>-1.5</td>\n",
       "      <td>-8.0</td>\n",
       "      <td>-4.4</td>\n",
       "    </tr>\n",
       "    <tr>\n",
       "      <th>2008</th>\n",
       "      <td>2.3</td>\n",
       "      <td>-0.0</td>\n",
       "      <td>-0.5</td>\n",
       "      <td>-1.8</td>\n",
       "      <td>-0.3</td>\n",
       "      <td>-4.5</td>\n",
       "      <td>-0.8</td>\n",
       "    </tr>\n",
       "    <tr>\n",
       "      <th>2009</th>\n",
       "      <td>2.1</td>\n",
       "      <td>1.4</td>\n",
       "      <td>1.2</td>\n",
       "      <td>1.4</td>\n",
       "      <td>-0.0</td>\n",
       "      <td>0.3</td>\n",
       "      <td>0.3</td>\n",
       "    </tr>\n",
       "    <tr>\n",
       "      <th>2010</th>\n",
       "      <td>2.2</td>\n",
       "      <td>2.2</td>\n",
       "      <td>2.2</td>\n",
       "      <td>1.3</td>\n",
       "      <td>1.4</td>\n",
       "      <td>-0.8</td>\n",
       "      <td>-0.8</td>\n",
       "    </tr>\n",
       "    <tr>\n",
       "      <th>2011</th>\n",
       "      <td>1.5</td>\n",
       "      <td>2.2</td>\n",
       "      <td>1.8</td>\n",
       "      <td>2.1</td>\n",
       "      <td>2.4</td>\n",
       "      <td>2.2</td>\n",
       "      <td>-2.0</td>\n",
       "    </tr>\n",
       "    <tr>\n",
       "      <th>2012</th>\n",
       "      <td>1.6</td>\n",
       "      <td>2.3</td>\n",
       "      <td>2.2</td>\n",
       "      <td>2.4</td>\n",
       "      <td>3.2</td>\n",
       "      <td>3.2</td>\n",
       "      <td>4.3</td>\n",
       "    </tr>\n",
       "  </tbody>\n",
       "</table>\n",
       "</div>"
      ],
      "text/plain": [
       "grade    A    B    C    D    E    F    G\n",
       "yyyy                                    \n",
       "2007   2.7 -0.2 -0.8 -1.4 -1.5 -8.0 -4.4\n",
       "2008   2.3 -0.0 -0.5 -1.8 -0.3 -4.5 -0.8\n",
       "2009   2.1  1.4  1.2  1.4 -0.0  0.3  0.3\n",
       "2010   2.2  2.2  2.2  1.3  1.4 -0.8 -0.8\n",
       "2011   1.5  2.2  1.8  2.1  2.4  2.2 -2.0\n",
       "2012   1.6  2.3  2.2  2.4  3.2  3.2  4.3"
      ]
     },
     "metadata": {},
     "output_type": "display_data"
    },
    {
     "name": "stdout",
     "output_type": "stream",
     "text": [
      "================================================\n",
      "\n"
     ]
    }
   ],
   "source": [
    "# Restrict the data to only contain the 36 month loans\n",
    "data = data.loc[data['term_mm'].values == 36, :]\n",
    "\n",
    "# Convert the issue_d into a pandas datetime and assume that the maximum issue date is the current date\n",
    "today = max(data['issue_dt'].values)\n",
    "flag = np.array(list(map(lambda x: x <= today, data['expr_dt'].values)))\n",
    "data = data.loc[flag, :]\n",
    "\n",
    "# Question 1:\n",
    "fullyPaid = data['ispaid'].sum() / data['dummy'].sum()\n",
    "\n",
    "# Question 2:\n",
    "groups = data.groupby(by = ['yyyy', 'grade'])\n",
    "cohort = groups.sum()\n",
    "cohort = 1.0 - cohort['ispaid'] / cohort['dummy']\n",
    "cohort = cohort.sort_values()\n",
    "cohort = cohort.index[-1]\n",
    "\n",
    "# Question 3:\n",
    "avgRet = groups.mean()['avgRet']\n",
    "\n",
    "# Print answers to the questions\n",
    "print('Business Analysis Output:')\n",
    "print('================================================')\n",
    "print('Question 1: The percentage of loans that has been fully paid is: ' + str(np.round(fullyPaid, 1) * 100) + '%')\n",
    "print('Question 2: The most deliquent cohort is: ' + str(cohort))\n",
    "print('Question 3: The average return by cohort is:')\n",
    "display((avgRet * 100.0).unstack().round(1))\n",
    "print('================================================')\n",
    "print('')\n",
    "\n",
    "# Delete variables we might reuse later\n",
    "del today, flag, groups"
   ]
  },
  {
   "cell_type": "markdown",
   "metadata": {},
   "source": [
    "#### From the table above, we can see clearly that the average return generally declines with loan quality in the recession years but actually increases in the post-crisis years. This makes sense as a lot of the lower quality loans that were made heading into the recession were probably not paid off (i.e. the higher interest rates on those loans didn't adequately cover the default risk) while the riskier credits from later in the sample were more likely to be repaid in full. \n",
    "\n",
    "#### As a result, the most delinquent cohort is the 2007 / G grade loans, which were the riskiest loans made right before the financial crisis.\n",
    "\n",
    "#### In general however, we find that most loans (approximately 86.9%) are repaid in full"
   ]
  },
  {
   "cell_type": "markdown",
   "metadata": {},
   "source": [
    "#### Next, we build a model to predict which loans are going to default. We define a default as any loan that has not been fully paid off by the end of its term\n",
    "\n",
    "#### We use a logistic regression model to predict defaults. This kind of model essentially takes in several loan characteristics (say, loan interest rates, borrower debt-to-income ratios, loan amounts etc.) and examines the joint impact of all these variables on defaults. In other words, a model like this can answer questions such as \"do higher interest rates on a loan correlate with a higher likelihood of default\" or \"are lower loan amounts associated with a reduction in default rates\"\n",
    "\n",
    "#### The inputs to the logistic regression model are loan characteristics (or features) and the choice of features is therefore critical to the model's performance. Ideally, we would select features that are not only intuitive but also correlate strongly with defaults."
   ]
  },
  {
   "cell_type": "code",
   "execution_count": 16,
   "metadata": {},
   "outputs": [],
   "source": [
    "# Drop data with NaNs\n",
    "data['lti'] = data['loan_amnt'] / data['annual_inc']\n",
    "data = data.reindex(columns = ['int_rate', 'grd_num', 'dti', 'lti', 'ispaid'])\n",
    "data = data.dropna(how = 'any', axis = 0)\n",
    "\n",
    "# Extract out some relevant features\n",
    "X = data.reindex(columns = ['int_rate', 'grd_num', 'dti', 'lti'])\n",
    "Y = data['ispaid']"
   ]
  },
  {
   "cell_type": "markdown",
   "metadata": {},
   "source": [
    "#### To identify whether a particular loan characteristic is suitable, we turn once again to our grouped summary tables. In this case, the grouping mechanism is whether a loan is fully paid off (ispaid = 1) or has defaulted (ispaid = 0).\n",
    "\n",
    "#### From the table below, we see that loans that default (ispaid = 0) have, on average, a riskier (higher) grade number (grade A = 1, grade G = 7) and a higher interest rate. These loans also tend to be made to people with lower incomes and higher debt to income ratios."
   ]
  },
  {
   "cell_type": "code",
   "execution_count": 17,
   "metadata": {},
   "outputs": [
    {
     "data": {
      "text/html": [
       "<div>\n",
       "<style scoped>\n",
       "    .dataframe tbody tr th:only-of-type {\n",
       "        vertical-align: middle;\n",
       "    }\n",
       "\n",
       "    .dataframe tbody tr th {\n",
       "        vertical-align: top;\n",
       "    }\n",
       "\n",
       "    .dataframe thead th {\n",
       "        text-align: right;\n",
       "    }\n",
       "</style>\n",
       "<table border=\"1\" class=\"dataframe\">\n",
       "  <thead>\n",
       "    <tr style=\"text-align: right;\">\n",
       "      <th></th>\n",
       "      <th>dti</th>\n",
       "      <th>grd_num</th>\n",
       "      <th>int_rate</th>\n",
       "      <th>lti</th>\n",
       "    </tr>\n",
       "    <tr>\n",
       "      <th>ispaid</th>\n",
       "      <th></th>\n",
       "      <th></th>\n",
       "      <th></th>\n",
       "      <th></th>\n",
       "    </tr>\n",
       "  </thead>\n",
       "  <tbody>\n",
       "    <tr>\n",
       "      <th>0.0</th>\n",
       "      <td>16.02</td>\n",
       "      <td>2.76</td>\n",
       "      <td>13.47</td>\n",
       "      <td>0.20</td>\n",
       "    </tr>\n",
       "    <tr>\n",
       "      <th>1.0</th>\n",
       "      <td>14.86</td>\n",
       "      <td>2.24</td>\n",
       "      <td>11.82</td>\n",
       "      <td>0.18</td>\n",
       "    </tr>\n",
       "  </tbody>\n",
       "</table>\n",
       "</div>"
      ],
      "text/plain": [
       "          dti  grd_num  int_rate   lti\n",
       "ispaid                                \n",
       "0.0     16.02     2.76     13.47  0.20\n",
       "1.0     14.86     2.24     11.82  0.18"
      ]
     },
     "metadata": {},
     "output_type": "display_data"
    },
    {
     "data": {
      "text/plain": [
       "<Figure size 432x288 with 0 Axes>"
      ]
     },
     "metadata": {},
     "output_type": "display_data"
    },
    {
     "data": {
      "image/png": "[encoded data removed]",
      "text/plain": [
       "<Figure size 432x288 with 1 Axes>"
      ]
     },
     "metadata": {
      "needs_background": "light"
     },
     "output_type": "display_data"
    },
    {
     "data": {
      "text/plain": [
       "<Figure size 432x288 with 0 Axes>"
      ]
     },
     "metadata": {},
     "output_type": "display_data"
    },
    {
     "data": {
      "image/png": "[encoded data removed]",
      "text/plain": [
       "<Figure size 432x288 with 1 Axes>"
      ]
     },
     "metadata": {
      "needs_background": "light"
     },
     "output_type": "display_data"
    },
    {
     "data": {
      "text/plain": [
       "<Figure size 432x288 with 0 Axes>"
      ]
     },
     "metadata": {},
     "output_type": "display_data"
    },
    {
     "data": {
      "image/png": "[encoded data removed]",
      "text/plain": [
       "<Figure size 432x288 with 1 Axes>"
      ]
     },
     "metadata": {
      "needs_background": "light"
     },
     "output_type": "display_data"
    },
    {
     "data": {
      "text/plain": [
       "<Figure size 432x288 with 0 Axes>"
      ]
     },
     "metadata": {},
     "output_type": "display_data"
    },
    {
     "data": {
      "image/png": "[encoded data removed]",
      "text/plain": [
       "<Figure size 432x288 with 1 Axes>"
      ]
     },
     "metadata": {
      "needs_background": "light"
     },
     "output_type": "display_data"
    }
   ],
   "source": [
    "# Plot averages by ispaid groups\n",
    "grouped = data.groupby(by = ['ispaid']).describe().xs(key = 'mean', axis = 1, level = 1).round(2)\n",
    "display(grouped)\n",
    "for c in grouped.columns:\n",
    "    plt.figure()\n",
    "    grouped.reindex(columns = [c]).plot(kind = 'bar', title = 'Average ' + c + ' value grouped by ispaid')\n",
    "    plt.show()                         "
   ]
  },
  {
   "cell_type": "markdown",
   "metadata": {},
   "source": [
    "#### Another way to visualize whether or not a particular characteristic is suitable for inclusion in the model is to check its correlation with other characteristics and with the default variable (i.e. ispaid). Since a correlation is just a way to measure how two variables move together (positive correlation = positive association), we are looking for two things here:\n",
    "\n",
    "#### a) Variables that correlate with the default rate (i.e. if we expect high loan interest rates to lead to a low probability of payment, then we should look for a negative association between the variables int_rate and ispaid)\n",
    "\n",
    "#### b) Variables that are too similar (i.e very high or low correlation). This is important because our model doesn't handle these kinds of situations well.\n",
    "\n",
    "#### From the table below, we can see that the loan interest rate (i.e. int_rate), the loan grade (i.e. grad_num), loan to income (lti) and debt to income (i.e. dti) are all negatively correlated with ispaid, our outcome of interest. However, the loan interest rate and the loan grade are very similar, so we should only include one of them in the analysis. We choose the interest rate since its a more granular measure of loan risk."
   ]
  },
  {
   "cell_type": "code",
   "execution_count": 18,
   "metadata": {},
   "outputs": [
    {
     "data": {
      "text/html": [
       "<div>\n",
       "<style scoped>\n",
       "    .dataframe tbody tr th:only-of-type {\n",
       "        vertical-align: middle;\n",
       "    }\n",
       "\n",
       "    .dataframe tbody tr th {\n",
       "        vertical-align: top;\n",
       "    }\n",
       "\n",
       "    .dataframe thead th {\n",
       "        text-align: right;\n",
       "    }\n",
       "</style>\n",
       "<table border=\"1\" class=\"dataframe\">\n",
       "  <thead>\n",
       "    <tr style=\"text-align: right;\">\n",
       "      <th></th>\n",
       "      <th>int_rate</th>\n",
       "      <th>grd_num</th>\n",
       "      <th>dti</th>\n",
       "      <th>lti</th>\n",
       "      <th>ispaid</th>\n",
       "    </tr>\n",
       "  </thead>\n",
       "  <tbody>\n",
       "    <tr>\n",
       "      <th>int_rate</th>\n",
       "      <td>1.00</td>\n",
       "      <td>0.90</td>\n",
       "      <td>0.16</td>\n",
       "      <td>0.14</td>\n",
       "      <td>-0.15</td>\n",
       "    </tr>\n",
       "    <tr>\n",
       "      <th>grd_num</th>\n",
       "      <td>0.90</td>\n",
       "      <td>1.00</td>\n",
       "      <td>0.09</td>\n",
       "      <td>0.10</td>\n",
       "      <td>-0.15</td>\n",
       "    </tr>\n",
       "    <tr>\n",
       "      <th>dti</th>\n",
       "      <td>0.16</td>\n",
       "      <td>0.09</td>\n",
       "      <td>1.00</td>\n",
       "      <td>0.19</td>\n",
       "      <td>-0.05</td>\n",
       "    </tr>\n",
       "    <tr>\n",
       "      <th>lti</th>\n",
       "      <td>0.14</td>\n",
       "      <td>0.10</td>\n",
       "      <td>0.19</td>\n",
       "      <td>1.00</td>\n",
       "      <td>-0.07</td>\n",
       "    </tr>\n",
       "    <tr>\n",
       "      <th>ispaid</th>\n",
       "      <td>-0.15</td>\n",
       "      <td>-0.15</td>\n",
       "      <td>-0.05</td>\n",
       "      <td>-0.07</td>\n",
       "      <td>1.00</td>\n",
       "    </tr>\n",
       "  </tbody>\n",
       "</table>\n",
       "</div>"
      ],
      "text/plain": [
       "          int_rate  grd_num   dti   lti  ispaid\n",
       "int_rate      1.00     0.90  0.16  0.14   -0.15\n",
       "grd_num       0.90     1.00  0.09  0.10   -0.15\n",
       "dti           0.16     0.09  1.00  0.19   -0.05\n",
       "lti           0.14     0.10  0.19  1.00   -0.07\n",
       "ispaid       -0.15    -0.15 -0.05 -0.07    1.00"
      ]
     },
     "metadata": {},
     "output_type": "display_data"
    },
    {
     "data": {
      "text/plain": [
       "<matplotlib.axes._subplots.AxesSubplot at 0x115d92c88>"
      ]
     },
     "execution_count": 18,
     "metadata": {},
     "output_type": "execute_result"
    },
    {
     "data": {
      "image/png": "[encoded data removed]",
      "text/plain": [
       "<Figure size 432x288 with 1 Axes>"
      ]
     },
     "metadata": {
      "needs_background": "light"
     },
     "output_type": "display_data"
    }
   ],
   "source": [
    "corr = data.corr().round(2)\n",
    "display(corr)\n",
    "del corr['ispaid']\n",
    "corr = corr.reindex(index = ['ispaid']).T\n",
    "corr.plot(kind = 'bar', title = 'Feature correlations with ispaid')"
   ]
  },
  {
   "cell_type": "markdown",
   "metadata": {},
   "source": [
    "#### Now that we have narrowed down our features to loan interest rate, debt-to-income ratio and loan-to-income ratio, we can proceed with estimating our regression model. To do this, we use 80% of the data to come up with the model and use the other 20% to see how good the model is after it has been built"
   ]
  },
  {
   "cell_type": "code",
   "execution_count": 19,
   "metadata": {},
   "outputs": [
    {
     "name": "stderr",
     "output_type": "stream",
     "text": [
      "/usr/local/lib/python3.7/site-packages/sklearn/linear_model/logistic.py:433: FutureWarning: Default solver will be changed to 'lbfgs' in 0.22. Specify a solver to silence this warning.\n",
      "  FutureWarning)\n"
     ]
    },
    {
     "data": {
      "text/plain": [
       "<matplotlib.axes._subplots.AxesSubplot at 0x120202780>"
      ]
     },
     "execution_count": 19,
     "metadata": {},
     "output_type": "execute_result"
    },
    {
     "data": {
      "image/png": "[encoded data removed]",
      "text/plain": [
       "<Figure size 432x288 with 1 Axes>"
      ]
     },
     "metadata": {
      "needs_background": "light"
     },
     "output_type": "display_data"
    }
   ],
   "source": [
    "# Drop correlated variables\n",
    "del X['grd_num']\n",
    "\n",
    "# Split the data set into training and test sets\n",
    "XTrain, XTest, YTrain, YTest = train_test_split(X, Y, test_size = 0.20)\n",
    "\n",
    "# Fit the logistic regression model\n",
    "regress = LogisticRegression(class_weight = 'balanced')\n",
    "regress.fit(X = XTrain, y = YTrain)\n",
    "\n",
    "# Predict output on the testing sets\n",
    "YPred = regress.predict(X = XTest)\n",
    "\n",
    "# Generate the confusion matrix\n",
    "conf = confusion_matrix(y_true = YTest, y_pred = YPred)\n",
    "conf = pandas.DataFrame(index = ['true_0', 'true_1'], columns = ['pred_0', 'pred_1'], data = conf)\n",
    "\n",
    "# Generate standardized output\n",
    "accuracy  = accuracy_score(y_true = YTest, y_pred = YPred)\n",
    "precision = precision_score(y_true = YTest, y_pred = YPred)\n",
    "recall    = recall_score(y_true = YTest, y_pred = YPred)\n",
    "\n",
    "# Get normalized coefficient values\n",
    "coef_norm = pandas.Series(index = X.columns, data = regress.coef_[0] * X.std().values)\n",
    "coef_norm.plot(kind = 'bar', title = 'Normalized regression coefficients')"
   ]
  },
  {
   "cell_type": "markdown",
   "metadata": {},
   "source": [
    "#### From the model output above, we can see that the most important feature is the interest rate (i.e. int_rate). In other words, the single biggest predictor of whether a loan is going to default or not is how high the interest rate is / how risky the loan is. This makes intuitive sense since the loan interest rate is directly related to the cost of servicing the loan.\n",
    "\n",
    "#### We also note that our other two variables, loan-to-income (i.e. lti) and debt-to-income (i.e. dti) play a smaller but non-trivial role in the analysis"
   ]
  },
  {
   "cell_type": "code",
   "execution_count": 20,
   "metadata": {},
   "outputs": [
    {
     "name": "stdout",
     "output_type": "stream",
     "text": [
      "Logistic Regression Output\n",
      "================================================\n",
      "Accuracy:  59.0%\n",
      "Precision: 90.8%\n",
      "Recall:    58.6%\n",
      "Confusion matrix:\n",
      "        pred_0  pred_1\n",
      "true_0    1232     768\n",
      "true_1    5381    7619\n",
      "Confusion matrix normalized:\n",
      "        pred_0  pred_1\n",
      "true_0     8.2     5.1\n",
      "true_1    35.9    50.8\n",
      "================================================\n",
      "\n"
     ]
    }
   ],
   "source": [
    "print('Logistic Regression Output')\n",
    "print('================================================')\n",
    "print('Accuracy:  ' + str(np.round(accuracy * 100.0, 1)) + '%')\n",
    "print('Precision: ' + str(np.round(precision * 100.0, 1)) + '%')\n",
    "print('Recall:    ' + str(np.round(recall * 100.0, 1)) + '%')\n",
    "print('Confusion matrix:')\n",
    "print(conf.to_string())\n",
    "print('Confusion matrix normalized:')\n",
    "print((100.0 * conf / conf.sum().sum()).round(1).to_string())\n",
    "print('================================================')\n",
    "print('')"
   ]
  },
  {
   "cell_type": "markdown",
   "metadata": {},
   "source": [
    "#### Although the regression features seem to capture how loans work, we still don't really know if this model is any good. In order to do this, we must use the 20% of the data that we didn't let the model see. We do this by checking how well the model's predictions (i.e. do we expect a particular loan to default or not) match up with what actually happened to the loan (i.e. did that particular loan actually default or not) in the 20% of the data that was intially withheld from the model.\n",
    "\n",
    "#### Intuitively, the perfect model should always predict a default for loans that actually default and also always predict a no-default for loans that do not actually default. However, because real world models are always error-prone, a reasonable model is one that doesn't make too many mistakes.\n",
    "\n",
    "#### For our purposes, the point of this model is to find a way to only invest in loans that are likely to be good. As a result, we want a model where most of the predictions about a loan being good actually come true. It turns out that our model has an approximately 90% success rate on this metric, meaning that 9 out of 10 times, a loan that the model thinks is good will actually end up being good. This ultimately means that the model is a pretty reliable guide on which loans are actually going to be repaid.\n",
    "\n",
    "#### However, the model does have one drawback in that it doesn't always identify all the good loans that are out there in the world. In other words, it leaves a lot of missed opportunities on the table, to the tune of about 40% of all truly good loans.\n",
    "\n",
    "#### To summarize, this model doesn't see about 40% of all the truly good loans out there; of the 60% of good loans out there, it correctly identifies about 90% of them. As a result, this model is a reliable but not comprehensive indicator of which loans are likely to be repaid in full at the end of their term and is a reasonble tool to use in an investment process."
   ]
  }
 ],
 "metadata": {
  "celltoolbar": "Slideshow",
  "kernelspec": {
   "display_name": "Python 3",
   "language": "python",
   "name": "python3"
  },
  "language_info": {
   "codemirror_mode": {
    "name": "ipython",
    "version": 3
   },
   "file_extension": ".py",
   "mimetype": "text/x-python",
   "name": "python",
   "nbconvert_exporter": "python",
   "pygments_lexer": "ipython3",
   "version": "3.7.1"
  }
 },
 "nbformat": 4,
 "nbformat_minor": 2
}
